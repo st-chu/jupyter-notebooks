{
 "cells": [
  {
   "cell_type": "code",
   "execution_count": 19,
   "metadata": {},
   "outputs": [
    {
     "name": "stdout",
     "output_type": "stream",
     "text": [
      "Vector1 = [ 1  2  3  4  5  6  7  8  9 10]\n",
      "Vector2 = [1. 1. 1. 1. 1. 1. 1. 1. 1. 1.]\n"
     ]
    },
    {
     "data": {
      "text/plain": [
       "array([ 2.,  3.,  4.,  5.,  6.,  7.,  8.,  9., 10., 11.])"
      ]
     },
     "execution_count": 19,
     "metadata": {},
     "output_type": "execute_result"
    }
   ],
   "source": [
    "import numpy as np\n",
    "\n",
    "# task1\n",
    "\n",
    "vector1 = np.array([1,2,3,4,5,6,7,8,9,10])\n",
    "\n",
    "vector2 = np.empty(10)\n",
    "vector2.fill(1)\n",
    "\n",
    "print(f\"Vector1 = {vector1}\")\n",
    "print(f\"Vector2 = {vector2}\")\n",
    "vector1 + vector2"
   ]
  },
  {
   "cell_type": "code",
   "execution_count": 21,
   "metadata": {},
   "outputs": [
    {
     "name": "stdout",
     "output_type": "stream",
     "text": [
      "średnia z [1 2 3 4 5] = 3.0\n",
      "średnia z [ 6  7  8  9 10] = 8.0\n",
      "średnia z [11 12 13 14 15] = 13.0\n",
      "średnia z [16 17 18 19 20] = 18.0\n",
      "średnia z [21 22 23 24 25] = 23.0\n"
     ]
    }
   ],
   "source": [
    "# task2\n",
    "\n",
    "matrix = np.array([\n",
    "    [1,2,3,4,5],\n",
    "    [6,7,8,9,10],\n",
    "    [11,12,13,14,15],\n",
    "    [16,17,18,19,20],\n",
    "    [21,22,23,24,25]\n",
    "])\n",
    "\n",
    "line1 = matrix[0, :].mean()\n",
    "line2 = matrix[1, :].mean()\n",
    "line3 = matrix[2, :].mean()\n",
    "line4 = matrix[3, :].mean()\n",
    "line5 = matrix[4, :].mean()\n",
    "column1 = matrix[:, 0].mean()\n",
    "column2 = matrix[:, 1].mean()\n",
    "column3 = matrix[:, 2].mean()\n",
    "column4 = matrix[:, 3].mean()\n",
    "column5 = matrix[:, 4].mean()\n",
    "print(f\"średnia z {matrix[0, :]} = {line1}\")\n",
    "print(f\"średnia z {matrix[1, :]} = {line2}\")\n",
    "print(f\"średnia z {matrix[2, :]} = {line3}\")\n",
    "print(f\"średnia z {matrix[3, :]} = {line4}\")\n",
    "print(f\"średnia z {matrix[4, :]} = {line5}\")\n",
    "print(f\"średnia z {matrix[4, :]} = {col}\")"
   ]
  },
  {
   "cell_type": "code",
   "execution_count": null,
   "metadata": {},
   "outputs": [],
   "source": []
  }
 ],
 "metadata": {
  "kernelspec": {
   "display_name": "Python 3",
   "language": "python",
   "name": "python3"
  },
  "language_info": {
   "codemirror_mode": {
    "name": "ipython",
    "version": 3
   },
   "file_extension": ".py",
   "mimetype": "text/x-python",
   "name": "python",
   "nbconvert_exporter": "python",
   "pygments_lexer": "ipython3",
   "version": "3.8.5"
  }
 },
 "nbformat": 4,
 "nbformat_minor": 4
}
