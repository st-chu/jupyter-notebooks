{
 "cells": [
  {
   "cell_type": "markdown",
   "metadata": {},
   "source": [
    "## How to create a function in Python?\n",
    "\n",
    "The first and most difficult rule of creating a function in Python is asking yourself what the function should do. All the rest is just fun ...\n",
    "\n",
    "#### Every function in python has the following structure:"
   ]
  },
  {
   "cell_type": "code",
   "execution_count": 5,
   "metadata": {},
   "outputs": [],
   "source": [
    "def name_of_our_function(argument=\"argument of our function\"):\n",
    "    print(f\"I send greetings from the function block and return '{argument}'\")"
   ]
  },
  {
   "cell_type": "code",
   "execution_count": 6,
   "metadata": {},
   "outputs": [
    {
     "name": "stdout",
     "output_type": "stream",
     "text": [
      "I send greetings from the function block and return 'argument of our function'\n"
     ]
    }
   ],
   "source": [
    "function_call = name_of_our_function()"
   ]
  },
  {
   "cell_type": "markdown",
   "metadata": {},
   "source": [
    "\n",
    "A function is a block of code that takes data from us, performs operations on it, and returns a result.\n",
    "The **def** command starts defining the function, followed by the name of the function.\n",
    "The function name should describe what the function does and should be written in lowercase letters **with_no_spaces_in_between_words**.\n",
    "Function arguments are given in parentheses right after the function name.\n",
    "The **\" : \"** character completes the definition of the function name and parameters.\n",
    "\n",
    "The function block begins on the next line. It is highlighted with an indentation (four spaces).\n",
    "The function block performs operations on the arguments defined above and returns the result of these operations, using the **return** command..\n",
    "The function always returns the result, even if we don't need it (as in the function \"name_of_our_function()\"), in this case the compiler adds \"return None\".\n",
    "A variable declared in a function block is visible only in the block, not in all code, for example:"
   ]
  },
  {
   "cell_type": "code",
   "execution_count": 8,
   "metadata": {},
   "outputs": [
    {
     "name": "stdout",
     "output_type": "stream",
     "text": [
      "x = 3\n",
      "y = 2\n"
     ]
    }
   ],
   "source": [
    "x = 3\n",
    "\n",
    "def some_function():\n",
    "    x = 2\n",
    "    return x\n",
    "\n",
    "y = some_function()\n",
    "\n",
    "print(f\"x = {x}\")\n",
    "print(f\"y = {y}\")"
   ]
  },
  {
   "cell_type": "markdown",
   "metadata": {},
   "source": [
    "---\n",
    "To make it all clear and solid, let's write a function that adds x to y."
   ]
  },
  {
   "cell_type": "code",
   "execution_count": 10,
   "metadata": {},
   "outputs": [
    {
     "name": "stdout",
     "output_type": "stream",
     "text": [
      "result of add 3 and 5 is 8\n"
     ]
    }
   ],
   "source": [
    "def add(x, y):\n",
    "    return x + y\n",
    "\n",
    "result = add(3, 5)\n",
    "\n",
    "print(f\"result of add 3 and 5 is {result}\")"
   ]
  },
  {
   "cell_type": "code",
   "execution_count": null,
   "metadata": {},
   "outputs": [],
   "source": []
  }
 ],
 "metadata": {
  "kernelspec": {
   "display_name": "Python 3",
   "language": "python",
   "name": "python3"
  },
  "language_info": {
   "codemirror_mode": {
    "name": "ipython",
    "version": 3
   },
   "file_extension": ".py",
   "mimetype": "text/x-python",
   "name": "python",
   "nbconvert_exporter": "python",
   "pygments_lexer": "ipython3",
   "version": "3.8.5"
  }
 },
 "nbformat": 4,
 "nbformat_minor": 4
}
